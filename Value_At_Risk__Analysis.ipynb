{
  "nbformat": 4,
  "nbformat_minor": 0,
  "metadata": {
    "colab": {
      "provenance": []
    },
    "kernelspec": {
      "name": "python3",
      "display_name": "Python 3"
    },
    "language_info": {
      "name": "python"
    }
  },
  "cells": [
    {
      "cell_type": "markdown",
      "source": [
        "# **Value at Risk (VaR) Analysis**"
      ],
      "metadata": {
        "id": "8ZRUDpzxf037"
      }
    },
    {
      "cell_type": "markdown",
      "source": [
        "## **0. Introduccion Teorica**\n",
        "\n",
        "\n",
        "El \"Value at Risk\" (VaR) es una medida utilizada en finanzas para estimar el riesgo de mercado de una cartera de inversiones. El VaR representa la pérdida máxima esperada, con un nivel de confianza específico, en una posición o cartera durante un período de tiempo determinado. Se expresa en términos de un valor monetario.\n",
        "\n",
        "VaR=P×σ×Z\n",
        "\n",
        "\n",
        "\n",
        "- P es el valor de la cartera o posición.\n",
        "\n",
        "\n",
        "- σ es la volatilidad de la cartera o posición.\n",
        "\n",
        "- Z es el valor crítico de la distribución normal estándar asociado al nivel de confianza deseado.\n",
        "\n",
        "El VaR es una herramienta útil para medir y gestionar el riesgo en carteras de inversión. Sin embargo, es importante reconocer sus limitaciones, como la asunción de una distribución normal de rendimientos y la falta de información sobre las pérdidas extremas más allá del VaR especificado. Por esta razón, se suelen combinar el VaR con otras medidas de riesgo y pruebas de tensión para obtener una visión más completa del riesgo."
      ],
      "metadata": {
        "id": "dI5vDdxSgd8P"
      }
    },
    {
      "cell_type": "markdown",
      "source": [
        "## **1. Importar librerias**"
      ],
      "metadata": {
        "id": "M3rlcirJhH4P"
      }
    },
    {
      "cell_type": "code",
      "execution_count": 1,
      "metadata": {
        "id": "FUllokgBWsOq"
      },
      "outputs": [],
      "source": [
        "import numpy as np\n",
        "import pandas as pd\n",
        "import matplotlib.pyplot as plt\n",
        "import datetime as dt\n",
        "import yfinance as yf"
      ]
    },
    {
      "cell_type": "markdown",
      "source": [
        "## **2. Time Range - Tickers**"
      ],
      "metadata": {
        "id": "SIuYjlYdhWnQ"
      }
    },
    {
      "cell_type": "markdown",
      "source": [
        "### **Time Range**"
      ],
      "metadata": {
        "id": "8Zw1yrHfhijh"
      }
    },
    {
      "cell_type": "code",
      "source": [
        "years = 15\n",
        "\n",
        "endDate = dt.datetime.now()\n",
        "startDate = endDate - dt.timedelta(days=365*years)\n",
        "\n",
        "tickers = ['SPY', 'BND', 'GLD', 'QQQ', 'VTI']"
      ],
      "metadata": {
        "id": "yVqSEUinhad4"
      },
      "execution_count": 2,
      "outputs": []
    },
    {
      "cell_type": "markdown",
      "source": [
        "### **Tickers**"
      ],
      "metadata": {
        "id": "Zwy5czQ5hqQs"
      }
    },
    {
      "cell_type": "code",
      "source": [
        "adj_close_df = pd.DataFrame()\n",
        "for ticker in tickers:\n",
        "    data = yf.download(ticker, start=startDate, end=endDate)\n",
        "    adj_close_df[ticker] = data['Adj Close']\n",
        "\n",
        "print(adj_close_df)"
      ],
      "metadata": {
        "colab": {
          "base_uri": "https://localhost:8080/"
        },
        "id": "AEv06yDChdoi",
        "outputId": "a9094ce5-e4db-4179-c09f-7d9511cf48c1"
      },
      "execution_count": 3,
      "outputs": [
        {
          "output_type": "stream",
          "name": "stdout",
          "text": [
            "[*********************100%%**********************]  1 of 1 completed\n",
            "[*********************100%%**********************]  1 of 1 completed\n",
            "[*********************100%%**********************]  1 of 1 completed\n",
            "[*********************100%%**********************]  1 of 1 completed\n",
            "[*********************100%%**********************]  1 of 1 completed\n",
            "                   SPY        BND         GLD         QQQ         VTI\n",
            "Date                                                                 \n",
            "2008-12-22   65.418678  50.698933   83.459999   25.588755   32.775032\n",
            "2008-12-23   64.742409  50.886841   82.629997   25.457342   32.425716\n",
            "2008-12-24   65.118134  50.843895   83.459999   25.527430   32.554817\n",
            "2008-12-26   65.493866  50.882919   85.599998   25.518663   32.896530\n",
            "2008-12-29   65.305969  51.201664   86.349998   25.308424   32.645927\n",
            "...                ...        ...         ...         ...         ...\n",
            "2023-12-12  462.225952  72.040001  183.490005  398.670013  230.660004\n",
            "2023-12-13  468.600098  72.959999  187.630005  403.739990  234.240005\n",
            "2023-12-14  470.104004  73.510002  188.729996  403.390015  235.630005\n",
            "2023-12-15  469.329987  73.400002  187.000000  405.339996  235.309998\n",
            "2023-12-18  471.179993  73.230003  187.539993  405.484985  235.960007\n",
            "\n",
            "[3773 rows x 5 columns]\n"
          ]
        }
      ]
    },
    {
      "cell_type": "markdown",
      "source": [
        "## **3. Daily Log Returns**\n",
        "Los rendimientos logarítmicos diarios son una medida comúnmente utilizada en finanzas para evaluar la variación porcentual en el precio de un activo de un día a otro. Estos rendimientos se calculan tomando el logaritmo natural de la razón entre el precio de un día y el precio del día anterior."
      ],
      "metadata": {
        "id": "NO3rdkKxiQ1Z"
      }
    },
    {
      "cell_type": "code",
      "source": [
        "log_returns = np.log(adj_close_df / adj_close_df.shift(1))\n",
        "log_returns = log_returns.dropna()\n",
        "print(log_returns)"
      ],
      "metadata": {
        "colab": {
          "base_uri": "https://localhost:8080/"
        },
        "id": "arrd3mjqiZL4",
        "outputId": "a5eecb83-5c7b-4d5d-e119-3e4647a82920"
      },
      "execution_count": 4,
      "outputs": [
        {
          "output_type": "stream",
          "name": "stdout",
          "text": [
            "                 SPY       BND       GLD       QQQ       VTI\n",
            "Date                                                        \n",
            "2008-12-23 -0.010391  0.003700 -0.009995 -0.005149 -0.010715\n",
            "2008-12-24  0.005787 -0.000844  0.009995  0.002749  0.003974\n",
            "2008-12-26  0.005753  0.000767  0.025318 -0.000343  0.010442\n",
            "2008-12-29 -0.002873  0.006245  0.008724 -0.008273 -0.007647\n",
            "2008-12-30  0.023426  0.001904 -0.005225  0.020556  0.025946\n",
            "...              ...       ...       ...       ...       ...\n",
            "2023-12-12  0.004557  0.002919 -0.000545  0.007933  0.003779\n",
            "2023-12-13  0.013696  0.012690  0.022312  0.012637  0.015401\n",
            "2023-12-14  0.003204  0.007510  0.005845 -0.000867  0.005917\n",
            "2023-12-15 -0.001648 -0.001498 -0.009209  0.004822 -0.001359\n",
            "2023-12-18  0.003934 -0.002319  0.002884  0.000358  0.002759\n",
            "\n",
            "[3772 rows x 5 columns]\n"
          ]
        }
      ]
    },
    {
      "cell_type": "markdown",
      "source": [
        "## **4. Portfolio Allocation**\n",
        "La \"Asignación de Portafolio\" se refiere a la distribución de activos dentro de una cartera de inversiones con el objetivo de alcanzar ciertos objetivos financieros.\n",
        "\n",
        "##**Clases de Activos:**\n",
        "\n",
        "Diferentes categorías de instrumentos financieros, como acciones, bonos, efectivo y bienes raíces, cada una con características de riesgo y rendimiento distintas.\n",
        "\n",
        "###**Diversificación:**\n",
        "\n",
        "Estrategia de distribuir los fondos entre varias clases de activos para reducir el riesgo total de la cartera, ya que diferentes activos pueden comportarse de manera diferente en diferentes condiciones de mercado.\n",
        "\n",
        "###**Horizonte Temporal y Objetivos Financieros:**\n",
        "\n",
        "La duración de la inversión y los objetivos financieros del inversor, que influyen en la selección de activos y la estrategia de asignación de portafolio.\n",
        "\n",
        "###**Tolerancia al Riesgo:**\n",
        "\n",
        "La disposición del inversor a aceptar riesgos financieros, que determina la proporción de activos más volátiles, como las acciones, en la cartera.\n",
        "\n",
        "###**Reequilibrio:**\n",
        "\n",
        "El proceso periódico de ajustar la asignación de activos para mantenerse en línea con los objetivos de inversión y adaptarse a cambios en las condiciones del mercado.\n",
        "\n",
        "###**Análisis de Rendimiento y Riesgo:**\n",
        "\n",
        "Evaluación de cómo diferentes asignaciones de portafolio pueden impactar la rentabilidad y la volatilidad de la cartera.\n",
        "\n",
        "###**Optimización de Carteras:**\n",
        "\n",
        "El uso de técnicas matemáticas y estadísticas para encontrar la combinación óptima de activos que maximiza el rendimiento esperado dadas restricciones de riesgo.\n",
        "\n",
        "###**Modelos de Factor:**\n",
        "\n",
        "Consideración de factores como tamaño de empresa, valor, momentum, entre otros, en la asignación de portafolio.\n"
      ],
      "metadata": {
        "id": "BcwB4Bp3iuhK"
      }
    },
    {
      "cell_type": "code",
      "source": [
        "portfolio_value = 1000000\n",
        "weights = np.array([1/len(tickers)]*len(tickers))\n",
        "print(weights)"
      ],
      "metadata": {
        "colab": {
          "base_uri": "https://localhost:8080/"
        },
        "id": "EY0Uj2EPkyoT",
        "outputId": "ade3dffc-2031-45c7-f3aa-b15c5ea2454b"
      },
      "execution_count": 5,
      "outputs": [
        {
          "output_type": "stream",
          "name": "stdout",
          "text": [
            "[0.2 0.2 0.2 0.2 0.2]\n"
          ]
        }
      ]
    },
    {
      "cell_type": "markdown",
      "source": [
        "## **5. Portfolio Analytics**"
      ],
      "metadata": {
        "id": "3wYN6rcmk2Tu"
      }
    },
    {
      "cell_type": "markdown",
      "source": [
        "### **Historical Portfolio Returns**"
      ],
      "metadata": {
        "id": "k3x70HZ8lPNr"
      }
    },
    {
      "cell_type": "code",
      "source": [
        "historical_returns = (log_returns * weights).sum(axis =1)\n",
        "print(historical_returns)"
      ],
      "metadata": {
        "colab": {
          "base_uri": "https://localhost:8080/"
        },
        "id": "S73B-Wk8lL33",
        "outputId": "3a9a3747-e570-4bbc-8aea-d4999acf00e2"
      },
      "execution_count": 6,
      "outputs": [
        {
          "output_type": "stream",
          "name": "stdout",
          "text": [
            "Date\n",
            "2008-12-23   -0.006510\n",
            "2008-12-24    0.004332\n",
            "2008-12-26    0.008387\n",
            "2008-12-29   -0.000765\n",
            "2008-12-30    0.013321\n",
            "                ...   \n",
            "2023-12-12    0.003729\n",
            "2023-12-13    0.015347\n",
            "2023-12-14    0.004322\n",
            "2023-12-15   -0.001778\n",
            "2023-12-18    0.001523\n",
            "Length: 3772, dtype: float64\n"
          ]
        }
      ]
    },
    {
      "cell_type": "markdown",
      "source": [
        "###**50-Day Historical Returns**"
      ],
      "metadata": {
        "id": "GxujhiVQlUYx"
      }
    },
    {
      "cell_type": "code",
      "source": [
        "days = 50\n",
        "\n",
        "range_returns = historical_returns.rolling(window = days).sum()\n",
        "range_returns = range_returns.dropna()\n",
        "print(range_returns)"
      ],
      "metadata": {
        "colab": {
          "base_uri": "https://localhost:8080/"
        },
        "id": "jS_qY7ailcVi",
        "outputId": "abb9a8f0-3f7a-4218-d997-062b6d5fdf69"
      },
      "execution_count": 7,
      "outputs": [
        {
          "output_type": "stream",
          "name": "stdout",
          "text": [
            "Date\n",
            "2009-03-06   -0.097735\n",
            "2009-03-09   -0.104812\n",
            "2009-03-10   -0.078435\n",
            "2009-03-11   -0.078894\n",
            "2009-03-12   -0.051204\n",
            "                ...   \n",
            "2023-12-12    0.078120\n",
            "2023-12-13    0.104835\n",
            "2023-12-14    0.102278\n",
            "2023-12-15    0.101492\n",
            "2023-12-18    0.094715\n",
            "Length: 3723, dtype: float64\n"
          ]
        }
      ]
    },
    {
      "cell_type": "markdown",
      "source": [
        "### **VaR Analysis**\n",
        "\n",
        "El Valor en Riesgo (VaR) es una medida que cuantifica la pérdida máxima esperada en una cartera o activo en un período de tiempo específico, con un nivel de confianza determinado.\n",
        "\n",
        "El Método Histórico es una forma sencilla de calcular el VaR utilizando datos históricos de rendimientos. Este metodo no tiene en cuenta eventos extremos no observados en el período histórico analizado.\n",
        "\n",
        "Supongamos que se tiene un nivel de confianza del 95% y se obtiene un VaR del 5%. Esto significa que se espera que la pérdida máxima en la cartera sea igual o menor al rendimiento que se encuentra en el percentil 5 de los rendimientos históricos.\n",
        "\n"
      ],
      "metadata": {
        "id": "utdwreu4leFY"
      }
    },
    {
      "cell_type": "code",
      "source": [
        "confidence_interval = 0.95\n",
        "\n",
        "VaR = -np.percentile(range_returns, 100 - (confidence_interval * 100))*portfolio_value\n",
        "print(VaR)"
      ],
      "metadata": {
        "colab": {
          "base_uri": "https://localhost:8080/"
        },
        "id": "WWSA0KV9lylt",
        "outputId": "044e3104-e89c-4cd8-ad6b-6aada9668604"
      },
      "execution_count": 10,
      "outputs": [
        {
          "output_type": "stream",
          "name": "stdout",
          "text": [
            "55767.13883110146\n"
          ]
        }
      ]
    },
    {
      "cell_type": "markdown",
      "source": [
        "## **6. Visualizacion de datos**"
      ],
      "metadata": {
        "id": "PV_fHusqmefj"
      }
    },
    {
      "cell_type": "code",
      "source": [
        "return_window = days\n",
        "range_returns = historical_returns.rolling(window=return_window).sum()\n",
        "range_returns = range_returns.dropna()\n",
        "\n",
        "range_returns_dollar = range_returns * portfolio_value\n",
        "\n",
        "plt.hist(range_returns_dollar.dropna(), bins=50, density=True)\n",
        "plt.xlabel(f'{return_window}-Day Portfolio Return (Dollar Value)')\n",
        "plt.ylabel('Frequency')\n",
        "plt.title(f'Distribution of Portfolio {return_window}-Day Returns (Dollar Value)')\n",
        "plt.axvline(-VaR, color='r', linestyle='dashed', linewidth=2, label=f'VaR at {confidence_interval:.0%} confidence level')\n",
        "plt.legend()\n",
        "plt.show()"
      ],
      "metadata": {
        "colab": {
          "base_uri": "https://localhost:8080/",
          "height": 487
        },
        "id": "ElYx4KHSmjsM",
        "outputId": "4d68f927-9e70-4197-f2cc-ec0440fb5bba"
      },
      "execution_count": 11,
      "outputs": [
        {
          "output_type": "display_data",
          "data": {
            "text/plain": [
              "<Figure size 640x480 with 1 Axes>"
            ],
            "image/png": "[encoded data removed]"
          },
          "metadata": {}
        }
      ]
    }
  ]
}