{
  "nbformat": 4,
  "nbformat_minor": 0,
  "metadata": {
    "colab": {
      "provenance": []
    },
    "kernelspec": {
      "name": "python3",
      "display_name": "Python 3"
    },
    "language_info": {
      "name": "python"
    }
  },
  "cells": [
    {
      "cell_type": "markdown",
      "source": [
        "# **Portfolio Optimization**"
      ],
      "metadata": {
        "id": "xUBE8KnYPyyo"
      }
    },
    {
      "cell_type": "markdown",
      "source": [
        "## **0. Introduccion Teorica:**\n",
        "La Optimización de Carteras es un aspecto esencial de la inversión moderna, y la Teoría Moderna de Carteras (MPT) es un enfoque bien conocido para lograr una cartera óptima.\n",
        "\n",
        "### **Optimización de Carteras**\n",
        "##### **Diversificación:**\n",
        "\n",
        "La diversificación es clave para la optimización de carteras. Al distribuir los fondos entre diferentes activos, se puede reducir el riesgo total de la cartera.\n",
        "Rendimiento y Riesgo:\n",
        "\n",
        "La optimización de carteras busca equilibrar el rendimiento deseado con el riesgo asumido. No se trata solo de maximizar el rendimiento, sino de hacerlo de manera eficiente en términos de riesgo.\n",
        "\n",
        "#### **Asignación de Activos:**\n",
        "\n",
        "Implica determinar la cantidad de dinero que se asignará a diferentes clases de activos, como acciones, bonos y otros instrumentos financieros.\n",
        "\n",
        "#### **Retorno Esperado:**\n",
        "\n",
        "Se busca maximizar el retorno esperado de la cartera, teniendo en cuenta las expectativas de rendimiento de los activos individuales y sus ponderaciones.\n",
        "\n",
        "### **Teoría Moderna de Carteras (MPT):**\n",
        "####**Frontera Eficiente:**\n",
        "\n",
        "La MPT introduce la idea de la \"Frontera Eficiente\", que representa todas las carteras que ofrecen el mayor rendimiento para un nivel dado de riesgo o el menor riesgo para un nivel dado de rendimiento.\n",
        "\n",
        "####**Rendimiento y Riesgo:**\n",
        "\n",
        "MPT argumenta que los inversionistas deben evaluar las carteras no solo en términos de rendimiento absoluto sino considerando también la volatilidad o riesgo.\n",
        "\n",
        "####**Indice de Sharpe:**\n",
        "\n",
        "La MPT popularizó el uso del Índice de Sharpe, que mide la relación entre el rendimiento excedente de una cartera sobre la tasa libre de riesgo y su volatilidad.\n",
        "\n",
        "#### **Diversificación Óptima:**\n",
        "\n",
        "MPT sugiere que existe una combinación óptima de activos que maximiza el rendimiento esperado para un nivel de riesgo dado y viceversa.\n",
        "\n",
        "####**Matriz de Covarianza:**\n",
        "\n",
        "Utiliza la matriz de covarianza para evaluar la relación entre los rendimientos de diferentes activos, lo que ayuda a construir carteras eficientes y bien diversificadas.\n",
        "Ratios de Sharpe y Sortino:\n",
        "\n",
        "Además del Índice de Sharpe, la MPT también considera el Índice de Sortino, que se centra en la volatilidad negativa.\n",
        "Pesos Óptimos:\n",
        "\n",
        "MPT busca determinar los pesos óptimos de los activos en la cartera que maximizan la relación rendimiento/riesgo."
      ],
      "metadata": {
        "id": "emzHDVHOP2Dd"
      }
    },
    {
      "cell_type": "markdown",
      "source": [
        "## **1. Tickers - Time Range**"
      ],
      "metadata": {
        "id": "TTbyXyoASAaB"
      }
    },
    {
      "cell_type": "code",
      "source": [
        "import yfinance as yf\n",
        "from datetime import datetime, timedelta\n",
        "import numpy as np\n",
        "import pandas as pd\n",
        "from scipy.optimize import minimize\n",
        "\n",
        "\n"
      ],
      "metadata": {
        "id": "TdPWuGf6bDMm"
      },
      "execution_count": 5,
      "outputs": []
    },
    {
      "cell_type": "code",
      "source": [
        "tickers = ['SPY','BND','GLD','QQQ','VTI']\n",
        "end_date = datetime.today()\n",
        "start_date = end_date - timedelta(days = 5*365)"
      ],
      "metadata": {
        "id": "mpLTm8ID9dWy"
      },
      "execution_count": 6,
      "outputs": []
    },
    {
      "cell_type": "markdown",
      "source": [
        "## **2. Adjusted Close Prices**"
      ],
      "metadata": {
        "id": "Du-12XHPSX_9"
      }
    },
    {
      "cell_type": "code",
      "source": [
        "adj_close_df = pd.DataFrame()\n",
        "for ticker in tickers:\n",
        "    data = yf.download(ticker, start = start_date,end = end_date)\n",
        "    adj_close_df[ticker] = data['Adj Close']"
      ],
      "metadata": {
        "colab": {
          "base_uri": "https://localhost:8080/"
        },
        "id": "1ul2FsR297Hw",
        "outputId": "6058eb5e-6b56-4870-e557-f6d8c76ec4cd"
      },
      "execution_count": 7,
      "outputs": [
        {
          "output_type": "stream",
          "name": "stdout",
          "text": [
            "[*********************100%%**********************]  1 of 1 completed\n",
            "[*********************100%%**********************]  1 of 1 completed\n",
            "[*********************100%%**********************]  1 of 1 completed\n",
            "[*********************100%%**********************]  1 of 1 completed\n",
            "[*********************100%%**********************]  1 of 1 completed\n"
          ]
        }
      ]
    },
    {
      "cell_type": "code",
      "source": [
        "print(adj_close_df)"
      ],
      "metadata": {
        "colab": {
          "base_uri": "https://localhost:8080/"
        },
        "id": "Hyidaj09-DpR",
        "outputId": "a26a48e8-fda5-4941-d75b-cb87d8388f03"
      },
      "execution_count": 9,
      "outputs": [
        {
          "output_type": "stream",
          "name": "stdout",
          "text": [
            "                   SPY        BND         GLD         QQQ         VTI\n",
            "Date                                                                 \n",
            "2018-12-19  230.208420  69.576485  117.430000  149.475739  117.987030\n",
            "2018-12-20  226.461121  69.479767  119.239998  147.309006  116.082535\n",
            "2018-12-21  221.821014  69.479767  118.720001  142.743393  113.616821\n",
            "2018-12-24  215.959869  69.495636  120.019997  139.203644  110.776588\n",
            "2018-12-26  226.871185  69.345749  119.660004  147.895416  116.107193\n",
            "...                ...        ...         ...         ...         ...\n",
            "2023-12-11  460.124451  71.830002  183.589996  395.519989  229.789993\n",
            "2023-12-12  462.225952  72.040001  183.490005  398.670013  230.660004\n",
            "2023-12-13  468.600098  72.959999  187.630005  403.739990  234.240005\n",
            "2023-12-14  470.104004  73.510002  188.729996  403.390015  235.630005\n",
            "2023-12-15  469.329987  73.400002  187.000000  405.339996  235.309998\n",
            "\n",
            "[1257 rows x 5 columns]\n"
          ]
        }
      ]
    },
    {
      "cell_type": "markdown",
      "source": [
        "## **3. Log Returns**\n",
        "Los rendimientos logarítmicos son fundamentales en finanzas cuantitativas, donde se utilizan para la valoración de opciones, simulaciones de Monte Carlo y otros modelos financieros.\n",
        "Los rendimientos logarítmicos se calculan tomando el logaritmo natural de la razón entre el precio actual y el precio anterior. La fórmula es:\n",
        "�\n",
        "�\n",
        "=\n",
        "ln\n",
        "⁡\n",
        "(\n",
        "�\n",
        "�\n",
        "�\n",
        "�\n",
        "−\n",
        "1\n",
        ")\n",
        "R\n",
        "t\n",
        "​\n",
        " =ln(\n",
        "P\n",
        "t−1\n",
        "​\n",
        "\n",
        "P\n",
        "t\n",
        "​\n",
        "\n",
        "​\n",
        " ) donde\n",
        "�\n",
        "�\n",
        "R\n",
        "t\n",
        "​\n",
        "  es el rendimiento logarítmico en el período\n",
        "�\n",
        "t,\n",
        "�\n",
        "�\n",
        "P\n",
        "t\n",
        "​\n",
        "  es el precio en el período\n",
        "�\n",
        "t, y\n",
        "�\n",
        "�\n",
        "−\n",
        "1\n",
        "P\n",
        "t−1\n",
        "​\n",
        "  es el precio en el período anterior."
      ],
      "metadata": {
        "id": "uXQAxsnCS5WC"
      }
    },
    {
      "cell_type": "code",
      "source": [
        "log_returns = np.log(adj_close_df / adj_close_df.shift(1))\n",
        "log_returns"
      ],
      "metadata": {
        "colab": {
          "base_uri": "https://localhost:8080/",
          "height": 455
        },
        "id": "PQMB1DEH-ZYZ",
        "outputId": "596a87d8-0dc9-484e-c0dc-8d452cb72b2c"
      },
      "execution_count": 11,
      "outputs": [
        {
          "output_type": "execute_result",
          "data": {
            "text/plain": [
              "                 SPY       BND       GLD       QQQ       VTI\n",
              "Date                                                        \n",
              "2018-12-19       NaN       NaN       NaN       NaN       NaN\n",
              "2018-12-20 -0.016412 -0.001391  0.015296 -0.014602 -0.016273\n",
              "2018-12-21 -0.020702  0.000000 -0.004370 -0.031484 -0.021470\n",
              "2018-12-24 -0.026778  0.000228  0.010891 -0.025111 -0.025316\n",
              "2018-12-26  0.049290 -0.002159 -0.003004  0.060567  0.046998\n",
              "...              ...       ...       ...       ...       ...\n",
              "2023-12-11  0.003882  0.000139 -0.011104  0.008506  0.004099\n",
              "2023-12-12  0.004557  0.002919 -0.000545  0.007933  0.003779\n",
              "2023-12-13  0.013696  0.012690  0.022312  0.012637  0.015401\n",
              "2023-12-14  0.003204  0.007510  0.005845 -0.000867  0.005917\n",
              "2023-12-15 -0.001648 -0.001498 -0.009209  0.004822 -0.001359\n",
              "\n",
              "[1257 rows x 5 columns]"
            ],
            "text/html": [
              "\n",
              "  <div id=\"df-17b47d24-cd2a-42e2-8276-31e90a977b10\" class=\"colab-df-container\">\n",
              "    <div>\n",
              "<style scoped>\n",
              "    .dataframe tbody tr th:only-of-type {\n",
              "        vertical-align: middle;\n",
              "    }\n",
              "\n",
              "    .dataframe tbody tr th {\n",
              "        vertical-align: top;\n",
              "    }\n",
              "\n",
              "    .dataframe thead th {\n",
              "        text-align: right;\n",
              "    }\n",
              "</style>\n",
              "<table border=\"1\" class=\"dataframe\">\n",
              "  <thead>\n",
              "    <tr style=\"text-align: right;\">\n",
              "      <th></th>\n",
              "      <th>SPY</th>\n",
              "      <th>BND</th>\n",
              "      <th>GLD</th>\n",
              "      <th>QQQ</th>\n",
              "      <th>VTI</th>\n",
              "    </tr>\n",
              "    <tr>\n",
              "      <th>Date</th>\n",
              "      <th></th>\n",
              "      <th></th>\n",
              "      <th></th>\n",
              "      <th></th>\n",
              "      <th></th>\n",
              "    </tr>\n",
              "  </thead>\n",
              "  <tbody>\n",
              "    <tr>\n",
              "      <th>2018-12-19</th>\n",
              "      <td>NaN</td>\n",
              "      <td>NaN</td>\n",
              "      <td>NaN</td>\n",
              "      <td>NaN</td>\n",
              "      <td>NaN</td>\n",
              "    </tr>\n",
              "    <tr>\n",
              "      <th>2018-12-20</th>\n",
              "      <td>-0.016412</td>\n",
              "      <td>-0.001391</td>\n",
              "      <td>0.015296</td>\n",
              "      <td>-0.014602</td>\n",
              "      <td>-0.016273</td>\n",
              "    </tr>\n",
              "    <tr>\n",
              "      <th>2018-12-21</th>\n",
              "      <td>-0.020702</td>\n",
              "      <td>0.000000</td>\n",
              "      <td>-0.004370</td>\n",
              "      <td>-0.031484</td>\n",
              "      <td>-0.021470</td>\n",
              "    </tr>\n",
              "    <tr>\n",
              "      <th>2018-12-24</th>\n",
              "      <td>-0.026778</td>\n",
              "      <td>0.000228</td>\n",
              "      <td>0.010891</td>\n",
              "      <td>-0.025111</td>\n",
              "      <td>-0.025316</td>\n",
              "    </tr>\n",
              "    <tr>\n",
              "      <th>2018-12-26</th>\n",
              "      <td>0.049290</td>\n",
              "      <td>-0.002159</td>\n",
              "      <td>-0.003004</td>\n",
              "      <td>0.060567</td>\n",
              "      <td>0.046998</td>\n",
              "    </tr>\n",
              "    <tr>\n",
              "      <th>...</th>\n",
              "      <td>...</td>\n",
              "      <td>...</td>\n",
              "      <td>...</td>\n",
              "      <td>...</td>\n",
              "      <td>...</td>\n",
              "    </tr>\n",
              "    <tr>\n",
              "      <th>2023-12-11</th>\n",
              "      <td>0.003882</td>\n",
              "      <td>0.000139</td>\n",
              "      <td>-0.011104</td>\n",
              "      <td>0.008506</td>\n",
              "      <td>0.004099</td>\n",
              "    </tr>\n",
              "    <tr>\n",
              "      <th>2023-12-12</th>\n",
              "      <td>0.004557</td>\n",
              "      <td>0.002919</td>\n",
              "      <td>-0.000545</td>\n",
              "      <td>0.007933</td>\n",
              "      <td>0.003779</td>\n",
              "    </tr>\n",
              "    <tr>\n",
              "      <th>2023-12-13</th>\n",
              "      <td>0.013696</td>\n",
              "      <td>0.012690</td>\n",
              "      <td>0.022312</td>\n",
              "      <td>0.012637</td>\n",
              "      <td>0.015401</td>\n",
              "    </tr>\n",
              "    <tr>\n",
              "      <th>2023-12-14</th>\n",
              "      <td>0.003204</td>\n",
              "      <td>0.007510</td>\n",
              "      <td>0.005845</td>\n",
              "      <td>-0.000867</td>\n",
              "      <td>0.005917</td>\n",
              "    </tr>\n",
              "    <tr>\n",
              "      <th>2023-12-15</th>\n",
              "      <td>-0.001648</td>\n",
              "      <td>-0.001498</td>\n",
              "      <td>-0.009209</td>\n",
              "      <td>0.004822</td>\n",
              "      <td>-0.001359</td>\n",
              "    </tr>\n",
              "  </tbody>\n",
              "</table>\n",
              "<p>1257 rows × 5 columns</p>\n",
              "</div>\n",
              "    <div class=\"colab-df-buttons\">\n",
              "\n",
              "  <div class=\"colab-df-container\">\n",
              "    <button class=\"colab-df-convert\" onclick=\"convertToInteractive('df-17b47d24-cd2a-42e2-8276-31e90a977b10')\"\n",
              "            title=\"Convert this dataframe to an interactive table.\"\n",
              "            style=\"display:none;\">\n",
              "\n",
              "  <svg xmlns=\"http://www.w3.org/2000/svg\" height=\"24px\" viewBox=\"0 -960 960 960\">\n",
              "    <path d=\"M120-120v-720h720v720H120Zm60-500h600v-160H180v160Zm220 220h160v-160H400v160Zm0 220h160v-160H400v160ZM180-400h160v-160H180v160Zm440 0h160v-160H620v160ZM180-180h160v-160H180v160Zm440 0h160v-160H620v160Z\"/>\n",
              "  </svg>\n",
              "    </button>\n",
              "\n",
              "  <style>\n",
              "    .colab-df-container {\n",
              "      display:flex;\n",
              "      gap: 12px;\n",
              "    }\n",
              "\n",
              "    .colab-df-convert {\n",
              "      background-color: #E8F0FE;\n",
              "      border: none;\n",
              "      border-radius: 50%;\n",
              "      cursor: pointer;\n",
              "      display: none;\n",
              "      fill: #1967D2;\n",
              "      height: 32px;\n",
              "      padding: 0 0 0 0;\n",
              "      width: 32px;\n",
              "    }\n",
              "\n",
              "    .colab-df-convert:hover {\n",
              "      background-color: #E2EBFA;\n",
              "      box-shadow: 0px 1px 2px rgba(60, 64, 67, 0.3), 0px 1px 3px 1px rgba(60, 64, 67, 0.15);\n",
              "      fill: #174EA6;\n",
              "    }\n",
              "\n",
              "    .colab-df-buttons div {\n",
              "      margin-bottom: 4px;\n",
              "    }\n",
              "\n",
              "    [theme=dark] .colab-df-convert {\n",
              "      background-color: #3B4455;\n",
              "      fill: #D2E3FC;\n",
              "    }\n",
              "\n",
              "    [theme=dark] .colab-df-convert:hover {\n",
              "      background-color: #434B5C;\n",
              "      box-shadow: 0px 1px 3px 1px rgba(0, 0, 0, 0.15);\n",
              "      filter: drop-shadow(0px 1px 2px rgba(0, 0, 0, 0.3));\n",
              "      fill: #FFFFFF;\n",
              "    }\n",
              "  </style>\n",
              "\n",
              "    <script>\n",
              "      const buttonEl =\n",
              "        document.querySelector('#df-17b47d24-cd2a-42e2-8276-31e90a977b10 button.colab-df-convert');\n",
              "      buttonEl.style.display =\n",
              "        google.colab.kernel.accessAllowed ? 'block' : 'none';\n",
              "\n",
              "      async function convertToInteractive(key) {\n",
              "        const element = document.querySelector('#df-17b47d24-cd2a-42e2-8276-31e90a977b10');\n",
              "        const dataTable =\n",
              "          await google.colab.kernel.invokeFunction('convertToInteractive',\n",
              "                                                    [key], {});\n",
              "        if (!dataTable) return;\n",
              "\n",
              "        const docLinkHtml = 'Like what you see? Visit the ' +\n",
              "          '<a target=\"_blank\" href=https://colab.research.google.com/notebooks/data_table.ipynb>data table notebook</a>'\n",
              "          + ' to learn more about interactive tables.';\n",
              "        element.innerHTML = '';\n",
              "        dataTable['output_type'] = 'display_data';\n",
              "        await google.colab.output.renderOutput(dataTable, element);\n",
              "        const docLink = document.createElement('div');\n",
              "        docLink.innerHTML = docLinkHtml;\n",
              "        element.appendChild(docLink);\n",
              "      }\n",
              "    </script>\n",
              "  </div>\n",
              "\n",
              "\n",
              "<div id=\"df-65cceed0-4b55-417b-af10-a1b0ac95c110\">\n",
              "  <button class=\"colab-df-quickchart\" onclick=\"quickchart('df-65cceed0-4b55-417b-af10-a1b0ac95c110')\"\n",
              "            title=\"Suggest charts\"\n",
              "            style=\"display:none;\">\n",
              "\n",
              "<svg xmlns=\"http://www.w3.org/2000/svg\" height=\"24px\"viewBox=\"0 0 24 24\"\n",
              "     width=\"24px\">\n",
              "    <g>\n",
              "        <path d=\"M19 3H5c-1.1 0-2 .9-2 2v14c0 1.1.9 2 2 2h14c1.1 0 2-.9 2-2V5c0-1.1-.9-2-2-2zM9 17H7v-7h2v7zm4 0h-2V7h2v10zm4 0h-2v-4h2v4z\"/>\n",
              "    </g>\n",
              "</svg>\n",
              "  </button>\n",
              "\n",
              "<style>\n",
              "  .colab-df-quickchart {\n",
              "      --bg-color: #E8F0FE;\n",
              "      --fill-color: #1967D2;\n",
              "      --hover-bg-color: #E2EBFA;\n",
              "      --hover-fill-color: #174EA6;\n",
              "      --disabled-fill-color: #AAA;\n",
              "      --disabled-bg-color: #DDD;\n",
              "  }\n",
              "\n",
              "  [theme=dark] .colab-df-quickchart {\n",
              "      --bg-color: #3B4455;\n",
              "      --fill-color: #D2E3FC;\n",
              "      --hover-bg-color: #434B5C;\n",
              "      --hover-fill-color: #FFFFFF;\n",
              "      --disabled-bg-color: #3B4455;\n",
              "      --disabled-fill-color: #666;\n",
              "  }\n",
              "\n",
              "  .colab-df-quickchart {\n",
              "    background-color: var(--bg-color);\n",
              "    border: none;\n",
              "    border-radius: 50%;\n",
              "    cursor: pointer;\n",
              "    display: none;\n",
              "    fill: var(--fill-color);\n",
              "    height: 32px;\n",
              "    padding: 0;\n",
              "    width: 32px;\n",
              "  }\n",
              "\n",
              "  .colab-df-quickchart:hover {\n",
              "    background-color: var(--hover-bg-color);\n",
              "    box-shadow: 0 1px 2px rgba(60, 64, 67, 0.3), 0 1px 3px 1px rgba(60, 64, 67, 0.15);\n",
              "    fill: var(--button-hover-fill-color);\n",
              "  }\n",
              "\n",
              "  .colab-df-quickchart-complete:disabled,\n",
              "  .colab-df-quickchart-complete:disabled:hover {\n",
              "    background-color: var(--disabled-bg-color);\n",
              "    fill: var(--disabled-fill-color);\n",
              "    box-shadow: none;\n",
              "  }\n",
              "\n",
              "  .colab-df-spinner {\n",
              "    border: 2px solid var(--fill-color);\n",
              "    border-color: transparent;\n",
              "    border-bottom-color: var(--fill-color);\n",
              "    animation:\n",
              "      spin 1s steps(1) infinite;\n",
              "  }\n",
              "\n",
              "  @keyframes spin {\n",
              "    0% {\n",
              "      border-color: transparent;\n",
              "      border-bottom-color: var(--fill-color);\n",
              "      border-left-color: var(--fill-color);\n",
              "    }\n",
              "    20% {\n",
              "      border-color: transparent;\n",
              "      border-left-color: var(--fill-color);\n",
              "      border-top-color: var(--fill-color);\n",
              "    }\n",
              "    30% {\n",
              "      border-color: transparent;\n",
              "      border-left-color: var(--fill-color);\n",
              "      border-top-color: var(--fill-color);\n",
              "      border-right-color: var(--fill-color);\n",
              "    }\n",
              "    40% {\n",
              "      border-color: transparent;\n",
              "      border-right-color: var(--fill-color);\n",
              "      border-top-color: var(--fill-color);\n",
              "    }\n",
              "    60% {\n",
              "      border-color: transparent;\n",
              "      border-right-color: var(--fill-color);\n",
              "    }\n",
              "    80% {\n",
              "      border-color: transparent;\n",
              "      border-right-color: var(--fill-color);\n",
              "      border-bottom-color: var(--fill-color);\n",
              "    }\n",
              "    90% {\n",
              "      border-color: transparent;\n",
              "      border-bottom-color: var(--fill-color);\n",
              "    }\n",
              "  }\n",
              "</style>\n",
              "\n",
              "  <script>\n",
              "    async function quickchart(key) {\n",
              "      const quickchartButtonEl =\n",
              "        document.querySelector('#' + key + ' button');\n",
              "      quickchartButtonEl.disabled = true;  // To prevent multiple clicks.\n",
              "      quickchartButtonEl.classList.add('colab-df-spinner');\n",
              "      try {\n",
              "        const charts = await google.colab.kernel.invokeFunction(\n",
              "            'suggestCharts', [key], {});\n",
              "      } catch (error) {\n",
              "        console.error('Error during call to suggestCharts:', error);\n",
              "      }\n",
              "      quickchartButtonEl.classList.remove('colab-df-spinner');\n",
              "      quickchartButtonEl.classList.add('colab-df-quickchart-complete');\n",
              "    }\n",
              "    (() => {\n",
              "      let quickchartButtonEl =\n",
              "        document.querySelector('#df-65cceed0-4b55-417b-af10-a1b0ac95c110 button');\n",
              "      quickchartButtonEl.style.display =\n",
              "        google.colab.kernel.accessAllowed ? 'block' : 'none';\n",
              "    })();\n",
              "  </script>\n",
              "</div>\n",
              "    </div>\n",
              "  </div>\n"
            ]
          },
          "metadata": {},
          "execution_count": 11
        }
      ]
    },
    {
      "cell_type": "code",
      "source": [
        "log_returns = log_returns.dropna()"
      ],
      "metadata": {
        "id": "FiOWbDsq_a0f"
      },
      "execution_count": 12,
      "outputs": []
    },
    {
      "cell_type": "markdown",
      "source": [
        "## **4.  Covariance Matrix**\n",
        "\n",
        "En finanzas, la matriz de covarianza se utiliza comúnmente para modelar la variabilidad conjunta de los rendimientos de diferentes activos en una cartera. Al construir la matriz de covarianza de los rendimientos, los inversores pueden evaluar el riesgo total de la cartera y optimizar la asignación de activos para lograr una cartera eficiente seguiendo los lineamientos Teoría Moderna de Carteras (MPT)"
      ],
      "metadata": {
        "id": "GkOd3idfTMIv"
      }
    },
    {
      "cell_type": "code",
      "source": [
        "cov_matrix = log_returns.cov() * 252\n",
        "cov_matrix"
      ],
      "metadata": {
        "colab": {
          "base_uri": "https://localhost:8080/",
          "height": 206
        },
        "id": "IMBCYHrz_kBs",
        "outputId": "888bcf80-ef95-4dea-d00f-969059798002"
      },
      "execution_count": 14,
      "outputs": [
        {
          "output_type": "execute_result",
          "data": {
            "text/plain": [
              "          SPY       BND       GLD       QQQ       VTI\n",
              "SPY  0.045208  0.002650  0.003235  0.050982  0.046227\n",
              "BND  0.002650  0.004578  0.003840  0.003270  0.002813\n",
              "GLD  0.003235  0.003840  0.022403  0.004502  0.003400\n",
              "QQQ  0.050982  0.003270  0.004502  0.066087  0.052079\n",
              "VTI  0.046227  0.002813  0.003400  0.052079  0.047644"
            ],
            "text/html": [
              "\n",
              "  <div id=\"df-f47e56ef-88a9-42a3-83e6-50f99aaf818c\" class=\"colab-df-container\">\n",
              "    <div>\n",
              "<style scoped>\n",
              "    .dataframe tbody tr th:only-of-type {\n",
              "        vertical-align: middle;\n",
              "    }\n",
              "\n",
              "    .dataframe tbody tr th {\n",
              "        vertical-align: top;\n",
              "    }\n",
              "\n",
              "    .dataframe thead th {\n",
              "        text-align: right;\n",
              "    }\n",
              "</style>\n",
              "<table border=\"1\" class=\"dataframe\">\n",
              "  <thead>\n",
              "    <tr style=\"text-align: right;\">\n",
              "      <th></th>\n",
              "      <th>SPY</th>\n",
              "      <th>BND</th>\n",
              "      <th>GLD</th>\n",
              "      <th>QQQ</th>\n",
              "      <th>VTI</th>\n",
              "    </tr>\n",
              "  </thead>\n",
              "  <tbody>\n",
              "    <tr>\n",
              "      <th>SPY</th>\n",
              "      <td>0.045208</td>\n",
              "      <td>0.002650</td>\n",
              "      <td>0.003235</td>\n",
              "      <td>0.050982</td>\n",
              "      <td>0.046227</td>\n",
              "    </tr>\n",
              "    <tr>\n",
              "      <th>BND</th>\n",
              "      <td>0.002650</td>\n",
              "      <td>0.004578</td>\n",
              "      <td>0.003840</td>\n",
              "      <td>0.003270</td>\n",
              "      <td>0.002813</td>\n",
              "    </tr>\n",
              "    <tr>\n",
              "      <th>GLD</th>\n",
              "      <td>0.003235</td>\n",
              "      <td>0.003840</td>\n",
              "      <td>0.022403</td>\n",
              "      <td>0.004502</td>\n",
              "      <td>0.003400</td>\n",
              "    </tr>\n",
              "    <tr>\n",
              "      <th>QQQ</th>\n",
              "      <td>0.050982</td>\n",
              "      <td>0.003270</td>\n",
              "      <td>0.004502</td>\n",
              "      <td>0.066087</td>\n",
              "      <td>0.052079</td>\n",
              "    </tr>\n",
              "    <tr>\n",
              "      <th>VTI</th>\n",
              "      <td>0.046227</td>\n",
              "      <td>0.002813</td>\n",
              "      <td>0.003400</td>\n",
              "      <td>0.052079</td>\n",
              "      <td>0.047644</td>\n",
              "    </tr>\n",
              "  </tbody>\n",
              "</table>\n",
              "</div>\n",
              "    <div class=\"colab-df-buttons\">\n",
              "\n",
              "  <div class=\"colab-df-container\">\n",
              "    <button class=\"colab-df-convert\" onclick=\"convertToInteractive('df-f47e56ef-88a9-42a3-83e6-50f99aaf818c')\"\n",
              "            title=\"Convert this dataframe to an interactive table.\"\n",
              "            style=\"display:none;\">\n",
              "\n",
              "  <svg xmlns=\"http://www.w3.org/2000/svg\" height=\"24px\" viewBox=\"0 -960 960 960\">\n",
              "    <path d=\"M120-120v-720h720v720H120Zm60-500h600v-160H180v160Zm220 220h160v-160H400v160Zm0 220h160v-160H400v160ZM180-400h160v-160H180v160Zm440 0h160v-160H620v160ZM180-180h160v-160H180v160Zm440 0h160v-160H620v160Z\"/>\n",
              "  </svg>\n",
              "    </button>\n",
              "\n",
              "  <style>\n",
              "    .colab-df-container {\n",
              "      display:flex;\n",
              "      gap: 12px;\n",
              "    }\n",
              "\n",
              "    .colab-df-convert {\n",
              "      background-color: #E8F0FE;\n",
              "      border: none;\n",
              "      border-radius: 50%;\n",
              "      cursor: pointer;\n",
              "      display: none;\n",
              "      fill: #1967D2;\n",
              "      height: 32px;\n",
              "      padding: 0 0 0 0;\n",
              "      width: 32px;\n",
              "    }\n",
              "\n",
              "    .colab-df-convert:hover {\n",
              "      background-color: #E2EBFA;\n",
              "      box-shadow: 0px 1px 2px rgba(60, 64, 67, 0.3), 0px 1px 3px 1px rgba(60, 64, 67, 0.15);\n",
              "      fill: #174EA6;\n",
              "    }\n",
              "\n",
              "    .colab-df-buttons div {\n",
              "      margin-bottom: 4px;\n",
              "    }\n",
              "\n",
              "    [theme=dark] .colab-df-convert {\n",
              "      background-color: #3B4455;\n",
              "      fill: #D2E3FC;\n",
              "    }\n",
              "\n",
              "    [theme=dark] .colab-df-convert:hover {\n",
              "      background-color: #434B5C;\n",
              "      box-shadow: 0px 1px 3px 1px rgba(0, 0, 0, 0.15);\n",
              "      filter: drop-shadow(0px 1px 2px rgba(0, 0, 0, 0.3));\n",
              "      fill: #FFFFFF;\n",
              "    }\n",
              "  </style>\n",
              "\n",
              "    <script>\n",
              "      const buttonEl =\n",
              "        document.querySelector('#df-f47e56ef-88a9-42a3-83e6-50f99aaf818c button.colab-df-convert');\n",
              "      buttonEl.style.display =\n",
              "        google.colab.kernel.accessAllowed ? 'block' : 'none';\n",
              "\n",
              "      async function convertToInteractive(key) {\n",
              "        const element = document.querySelector('#df-f47e56ef-88a9-42a3-83e6-50f99aaf818c');\n",
              "        const dataTable =\n",
              "          await google.colab.kernel.invokeFunction('convertToInteractive',\n",
              "                                                    [key], {});\n",
              "        if (!dataTable) return;\n",
              "\n",
              "        const docLinkHtml = 'Like what you see? Visit the ' +\n",
              "          '<a target=\"_blank\" href=https://colab.research.google.com/notebooks/data_table.ipynb>data table notebook</a>'\n",
              "          + ' to learn more about interactive tables.';\n",
              "        element.innerHTML = '';\n",
              "        dataTable['output_type'] = 'display_data';\n",
              "        await google.colab.output.renderOutput(dataTable, element);\n",
              "        const docLink = document.createElement('div');\n",
              "        docLink.innerHTML = docLinkHtml;\n",
              "        element.appendChild(docLink);\n",
              "      }\n",
              "    </script>\n",
              "  </div>\n",
              "\n",
              "\n",
              "<div id=\"df-63eab536-a7f4-4852-ab52-d0c5044cf6bc\">\n",
              "  <button class=\"colab-df-quickchart\" onclick=\"quickchart('df-63eab536-a7f4-4852-ab52-d0c5044cf6bc')\"\n",
              "            title=\"Suggest charts\"\n",
              "            style=\"display:none;\">\n",
              "\n",
              "<svg xmlns=\"http://www.w3.org/2000/svg\" height=\"24px\"viewBox=\"0 0 24 24\"\n",
              "     width=\"24px\">\n",
              "    <g>\n",
              "        <path d=\"M19 3H5c-1.1 0-2 .9-2 2v14c0 1.1.9 2 2 2h14c1.1 0 2-.9 2-2V5c0-1.1-.9-2-2-2zM9 17H7v-7h2v7zm4 0h-2V7h2v10zm4 0h-2v-4h2v4z\"/>\n",
              "    </g>\n",
              "</svg>\n",
              "  </button>\n",
              "\n",
              "<style>\n",
              "  .colab-df-quickchart {\n",
              "      --bg-color: #E8F0FE;\n",
              "      --fill-color: #1967D2;\n",
              "      --hover-bg-color: #E2EBFA;\n",
              "      --hover-fill-color: #174EA6;\n",
              "      --disabled-fill-color: #AAA;\n",
              "      --disabled-bg-color: #DDD;\n",
              "  }\n",
              "\n",
              "  [theme=dark] .colab-df-quickchart {\n",
              "      --bg-color: #3B4455;\n",
              "      --fill-color: #D2E3FC;\n",
              "      --hover-bg-color: #434B5C;\n",
              "      --hover-fill-color: #FFFFFF;\n",
              "      --disabled-bg-color: #3B4455;\n",
              "      --disabled-fill-color: #666;\n",
              "  }\n",
              "\n",
              "  .colab-df-quickchart {\n",
              "    background-color: var(--bg-color);\n",
              "    border: none;\n",
              "    border-radius: 50%;\n",
              "    cursor: pointer;\n",
              "    display: none;\n",
              "    fill: var(--fill-color);\n",
              "    height: 32px;\n",
              "    padding: 0;\n",
              "    width: 32px;\n",
              "  }\n",
              "\n",
              "  .colab-df-quickchart:hover {\n",
              "    background-color: var(--hover-bg-color);\n",
              "    box-shadow: 0 1px 2px rgba(60, 64, 67, 0.3), 0 1px 3px 1px rgba(60, 64, 67, 0.15);\n",
              "    fill: var(--button-hover-fill-color);\n",
              "  }\n",
              "\n",
              "  .colab-df-quickchart-complete:disabled,\n",
              "  .colab-df-quickchart-complete:disabled:hover {\n",
              "    background-color: var(--disabled-bg-color);\n",
              "    fill: var(--disabled-fill-color);\n",
              "    box-shadow: none;\n",
              "  }\n",
              "\n",
              "  .colab-df-spinner {\n",
              "    border: 2px solid var(--fill-color);\n",
              "    border-color: transparent;\n",
              "    border-bottom-color: var(--fill-color);\n",
              "    animation:\n",
              "      spin 1s steps(1) infinite;\n",
              "  }\n",
              "\n",
              "  @keyframes spin {\n",
              "    0% {\n",
              "      border-color: transparent;\n",
              "      border-bottom-color: var(--fill-color);\n",
              "      border-left-color: var(--fill-color);\n",
              "    }\n",
              "    20% {\n",
              "      border-color: transparent;\n",
              "      border-left-color: var(--fill-color);\n",
              "      border-top-color: var(--fill-color);\n",
              "    }\n",
              "    30% {\n",
              "      border-color: transparent;\n",
              "      border-left-color: var(--fill-color);\n",
              "      border-top-color: var(--fill-color);\n",
              "      border-right-color: var(--fill-color);\n",
              "    }\n",
              "    40% {\n",
              "      border-color: transparent;\n",
              "      border-right-color: var(--fill-color);\n",
              "      border-top-color: var(--fill-color);\n",
              "    }\n",
              "    60% {\n",
              "      border-color: transparent;\n",
              "      border-right-color: var(--fill-color);\n",
              "    }\n",
              "    80% {\n",
              "      border-color: transparent;\n",
              "      border-right-color: var(--fill-color);\n",
              "      border-bottom-color: var(--fill-color);\n",
              "    }\n",
              "    90% {\n",
              "      border-color: transparent;\n",
              "      border-bottom-color: var(--fill-color);\n",
              "    }\n",
              "  }\n",
              "</style>\n",
              "\n",
              "  <script>\n",
              "    async function quickchart(key) {\n",
              "      const quickchartButtonEl =\n",
              "        document.querySelector('#' + key + ' button');\n",
              "      quickchartButtonEl.disabled = true;  // To prevent multiple clicks.\n",
              "      quickchartButtonEl.classList.add('colab-df-spinner');\n",
              "      try {\n",
              "        const charts = await google.colab.kernel.invokeFunction(\n",
              "            'suggestCharts', [key], {});\n",
              "      } catch (error) {\n",
              "        console.error('Error during call to suggestCharts:', error);\n",
              "      }\n",
              "      quickchartButtonEl.classList.remove('colab-df-spinner');\n",
              "      quickchartButtonEl.classList.add('colab-df-quickchart-complete');\n",
              "    }\n",
              "    (() => {\n",
              "      let quickchartButtonEl =\n",
              "        document.querySelector('#df-63eab536-a7f4-4852-ab52-d0c5044cf6bc button');\n",
              "      quickchartButtonEl.style.display =\n",
              "        google.colab.kernel.accessAllowed ? 'block' : 'none';\n",
              "    })();\n",
              "  </script>\n",
              "</div>\n",
              "    </div>\n",
              "  </div>\n"
            ]
          },
          "metadata": {},
          "execution_count": 14
        }
      ]
    },
    {
      "cell_type": "markdown",
      "source": [
        "## **5. Portfolio Performance Metrics**\n",
        "Las métricas de desempeño de carteras son herramientas clave en finanzas que permiten evaluar y comparar el rendimiento de una cartera de activos. Aquí, definimos funciones para calcular la desviación estándar de la cartera, el rendimiento esperado y la ratio de Sharpe.\n",
        "\n",
        "### **Desviación Estándar de la Cartera:**\n",
        "La desviación estándar de una cartera mide la variabilidad o riesgo total de la cartera. Se calcula teniendo en cuenta las ponderaciones de cada activo en la cartera y las covarianzas entre los rendimientos de los activos.\n",
        "\n",
        "### **Rendimiento Esperado de la Cartera:**\n",
        "El rendimiento esperado de una cartera es la suma ponderada de los rendimientos esperados de los activos individuales.\n",
        "\n",
        "### **Ratio de Sharpe:**\n",
        "El índice de Sharpe mide la rentabilidad excedente de una cartera en relación con la tasa libre de riesgo, ajustando el rendimiento por la volatilidad.\n"
      ],
      "metadata": {
        "id": "kNBZstnTT_7-"
      }
    },
    {
      "cell_type": "code",
      "source": [
        "def standard_deviation(weights, cov_matrix):\n",
        "    variance = weights.T @ cov_matrix @ weights\n",
        "    return np.sqrt(variance)\n",
        "\n",
        "def expected_return(weights, log_returns):\n",
        "    return np.sum(log_returns.mean()*weights)*252\n",
        "\n",
        "def sharpe_ratio(weights, log_returns, cov_matrix, risk_free_rate):\n",
        "    return (expected_return(weights, log_returns) - risk_free_rate) / standard_deviation(weights, cov_matrix)"
      ],
      "metadata": {
        "id": "fT9IL83q_5iM"
      },
      "execution_count": 15,
      "outputs": []
    },
    {
      "cell_type": "markdown",
      "source": [
        "## **6. Portfolio Optimization**"
      ],
      "metadata": {
        "id": "hzxsmzmXWF3Z"
      }
    },
    {
      "cell_type": "markdown",
      "source": [
        "### **Risk Free Rate**\n",
        "\n",
        "La tasa libre de riesgo a menudo se asocia con inversiones en activos financieros considerados libres de riesgo, usualmente se asocia con los bonos del gobierno americano. Estos bonos se consideran \"libres de riesgo\" en el sentido de que se espera que el gobierno cumpla con sus obligaciones de pago."
      ],
      "metadata": {
        "id": "zL3mqDvUUwDa"
      }
    },
    {
      "cell_type": "code",
      "source": [
        "#GS10\n",
        "\n",
        "ten_years_rate = pd.read_csv(\"/content/GS10.csv\")\n",
        "print(ten_years_rate.tail())\n"
      ],
      "metadata": {
        "colab": {
          "base_uri": "https://localhost:8080/"
        },
        "id": "_0xNzYAVAKVX",
        "outputId": "1dc6056f-82e6-4925-a418-93a99cc0bcc7"
      },
      "execution_count": 29,
      "outputs": [
        {
          "output_type": "stream",
          "name": "stdout",
          "text": [
            "           DATE  GS10\n",
            "843  2023-07-01  3.90\n",
            "844  2023-08-01  4.17\n",
            "845  2023-09-01  4.38\n",
            "846  2023-10-01  4.80\n",
            "847  2023-11-01  4.50\n"
          ]
        }
      ]
    },
    {
      "cell_type": "code",
      "source": [
        "risk_free_rate = ten_years_rate.iloc[-1]\n",
        "print(risk_free_rate.tail())"
      ],
      "metadata": {
        "colab": {
          "base_uri": "https://localhost:8080/"
        },
        "id": "JDyFU3hVF6Zn",
        "outputId": "8b3765ec-8403-4a93-95be-0aaa43e4e911"
      },
      "execution_count": 30,
      "outputs": [
        {
          "output_type": "stream",
          "name": "stdout",
          "text": [
            "DATE    2023-11-01\n",
            "GS10           4.5\n",
            "Name: 847, dtype: object\n"
          ]
        }
      ]
    },
    {
      "cell_type": "markdown",
      "source": [
        "### **Negative Sharpe ratio**\n",
        "\n",
        "El índice de Sharpe negativo, o \"negative Sharpe ratio\" en inglés, indica un rendimiento ajustado al riesgo inferior al rendimiento de una inversión sin riesgo. Es importante entender que un índice de Sharpe negativo generalmente sugiere que la inversión o cartera está proporcionando un rendimiento inferior al rendimiento de una inversión sin riesgo."
      ],
      "metadata": {
        "id": "XadKKAItVL5J"
      }
    },
    {
      "cell_type": "code",
      "source": [
        "\n",
        "def neg_sharpe_ratio(weights, log_returns, cov_matrix, risk_free_rate):\n",
        "    return -sharpe_ratio(weights, log_returns, cov_matrix, risk_free_rate)\n",
        "\n",
        "\n",
        "\n"
      ],
      "metadata": {
        "id": "1qkQG-tnJlSl"
      },
      "execution_count": 32,
      "outputs": []
    },
    {
      "cell_type": "code",
      "source": [
        "constraints = {'type': 'eq', 'fun': lambda weights: np.sum(weights) - 1}\n",
        "bounds = [(0, 0.4) for _ in range(len(tickers))]\n",
        "initial_weights = np.array([1/len(tickers)]*len(tickers))"
      ],
      "metadata": {
        "id": "KFMiiotfLEzC"
      },
      "execution_count": 33,
      "outputs": []
    },
    {
      "cell_type": "code",
      "source": [
        "optimized_results = minimize(neg_sharpe_ratio, initial_weights, args=(log_returns, cov_matrix, risk_free_rate), method='SLSQP', constraints=constraints, bounds=bounds)"
      ],
      "metadata": {
        "id": "XFaCkFFMLG8s"
      },
      "execution_count": 36,
      "outputs": []
    },
    {
      "cell_type": "code",
      "source": [
        "optimal_weights = optimized_results.x"
      ],
      "metadata": {
        "id": "7Zla1XR2MWh7"
      },
      "execution_count": 37,
      "outputs": []
    },
    {
      "cell_type": "markdown",
      "source": [
        "##**7. Portfolio Analytics**"
      ],
      "metadata": {
        "id": "I2xjWcV4WZC0"
      }
    },
    {
      "cell_type": "code",
      "source": [
        "optimal_weights = optimized_results.x\n",
        "\n",
        "print(\"Optimal Weights:\")\n",
        "for ticker, weight in zip(tickers, optimal_weights):\n",
        "    print(f\"{ticker}: {weight:.4f}\")\n",
        "\n",
        "optimal_portfolio_return = expected_return(optimal_weights, log_returns)\n",
        "optimal_portfolio_volatility = standard_deviation(optimal_weights, cov_matrix)\n",
        "optimal_sharpe_ratio = sharpe_ratio(optimal_weights, log_returns, cov_matrix, risk_free_rate)\n",
        "\n",
        "print(f\"Expected Annual Return: {optimal_portfolio_return:.4f}\")\n",
        "print(f\"Expected Volatility: {optimal_portfolio_volatility:.4f}\")\n",
        "print(f\"Sharpe Ratio: {optimal_sharpe_ratio:.4f}\")"
      ],
      "metadata": {
        "colab": {
          "base_uri": "https://localhost:8080/"
        },
        "id": "3x0eLwW4MvTb",
        "outputId": "9fa4508a-2322-4551-a33b-335804074d31"
      },
      "execution_count": 38,
      "outputs": [
        {
          "output_type": "stream",
          "name": "stdout",
          "text": [
            "Optimal Weights:\n",
            "SPY: 0.1994\n",
            "BND: 0.0006\n",
            "GLD: 0.4000\n",
            "QQQ: 0.4000\n",
            "VTI: 0.0000\n",
            "Expected Annual Return: 0.1459\n",
            "Expected Volatility: 0.1614\n",
            "Sharpe Ratio: 0.7801\n"
          ]
        }
      ]
    },
    {
      "cell_type": "code",
      "source": [
        "import matplotlib.pyplot as plt\n",
        "\n",
        "plt.figure(figsize=(10, 6))\n",
        "plt.bar(tickers, optimal_weights)\n",
        "\n",
        "plt.xlabel('Assets')\n",
        "plt.ylabel('Optimal Weights')\n",
        "plt.title('Optimal Portfolio Weights')\n",
        "\n",
        "plt.show()"
      ],
      "metadata": {
        "colab": {
          "base_uri": "https://localhost:8080/",
          "height": 564
        },
        "id": "e4lQHTISM4tn",
        "outputId": "e5ab59db-64ff-4931-f5fb-3144d8159b4c"
      },
      "execution_count": 40,
      "outputs": [
        {
          "output_type": "display_data",
          "data": {
            "text/plain": [
              "<Figure size 1000x600 with 1 Axes>"
            ],
            "image/png": "[encoded data removed]"
          },
          "metadata": {}
        }
      ]
    }
  ]
}